{
  "nbformat": 4,
  "nbformat_minor": 0,
  "metadata": {
    "colab": {
      "provenance": []
    },
    "kernelspec": {
      "name": "python3",
      "display_name": "Python 3"
    },
    "language_info": {
      "name": "python"
    }
  },
  "cells": [
    {
      "cell_type": "code",
      "execution_count": 2,
      "metadata": {
        "id": "vY6W6py2-EcF"
      },
      "outputs": [],
      "source": [
        "import numpy as np\n",
        "import pandas as pd\n",
        "import matplotlib.pyplot as plt\n",
        "import yfinance as yf\n",
        "from scipy.stats import norm"
      ]
    },
    {
      "cell_type": "code",
      "source": [
        "ticker = \"SPY\"\n",
        "data = yf.download(ticker,start=\"2024-06-01\", end=\"2024-12-01\")\n",
        "print(data)"
      ],
      "metadata": {
        "colab": {
          "base_uri": "https://localhost:8080/"
        },
        "id": "10g4euNt-cBi",
        "outputId": "9f1adb8c-8eeb-40c2-b528-33963c4aa600"
      },
      "execution_count": 3,
      "outputs": [
        {
          "output_type": "stream",
          "name": "stderr",
          "text": [
            "\r[*********************100%***********************]  1 of 1 completed"
          ]
        },
        {
          "output_type": "stream",
          "name": "stdout",
          "text": [
            "Price        Adj Close       Close        High         Low        Open  \\\n",
            "Ticker             SPY         SPY         SPY         SPY         SPY   \n",
            "Date                                                                     \n",
            "2024-06-03  522.734619  527.799988  529.309998  522.599976  529.020020   \n",
            "2024-06-04  523.318970  528.390015  529.150024  524.960022  526.460022   \n",
            "2024-06-05  529.538696  534.669983  534.690002  528.729980  530.770020   \n",
            "2024-06-06  529.528748  534.659973  535.419983  532.679993  534.979980   \n",
            "2024-06-07  528.885071  534.010010  536.890015  532.539978  533.659973   \n",
            "...                ...         ...         ...         ...         ...   \n",
            "2024-11-22  593.512451  595.510010  596.150024  593.150024  593.659973   \n",
            "2024-11-25  595.525696  597.530029  600.859985  595.200012  599.520020   \n",
            "2024-11-26  598.635193  600.650024  601.330017  598.070007  598.799988   \n",
            "2024-11-27  596.821289  598.830017  600.849976  597.280029  600.460022   \n",
            "2024-11-29  600.528809  602.549988  603.349976  599.380005  599.659973   \n",
            "\n",
            "Price         Volume  \n",
            "Ticker           SPY  \n",
            "Date                  \n",
            "2024-06-03  46835700  \n",
            "2024-06-04  34632700  \n",
            "2024-06-05  47610400  \n",
            "2024-06-06  30808500  \n",
            "2024-06-07  43224500  \n",
            "...              ...  \n",
            "2024-11-22  38226400  \n",
            "2024-11-25  42441400  \n",
            "2024-11-26  45621300  \n",
            "2024-11-27  34000200  \n",
            "2024-11-29  30177400  \n",
            "\n",
            "[126 rows x 6 columns]\n"
          ]
        },
        {
          "output_type": "stream",
          "name": "stderr",
          "text": [
            "\n"
          ]
        }
      ]
    },
    {
      "cell_type": "code",
      "source": [
        "data['Log Returns'] = np.log(data['Close'] / data['Close'].shift(1))\n",
        "S = data['Close'].iloc[-1]\n",
        "K = S\n",
        "T = 0.5\n",
        "r = 0.05\n",
        "sigma = data['Log Returns'].std() * np.sqrt(252)"
      ],
      "metadata": {
        "id": "3nUuHvoFCwiI"
      },
      "execution_count": 4,
      "outputs": []
    },
    {
      "cell_type": "code",
      "source": [
        "def black_scholes(S, K, T, r, sigma, option_type):\n",
        "    d1 = (np.log(S / K) + (r + sigma**2 / 2) * T) / (sigma * np.sqrt(T))\n",
        "    d2 = d1 - sigma * np.sqrt(T)\n",
        "\n",
        "    if option_type == \"call\":\n",
        "        price = S * norm.cdf(d1) - K * np.exp(-r * T) * norm.cdf(d2)\n",
        "    elif option_type == \"put\":\n",
        "        price = K * np.exp(-r * T) * norm.cdf(-d2) - S * norm.cdf(-d1)\n",
        "    else:\n",
        "        raise ValueError(\"Option type must be 'call' or 'put'\")\n",
        "    return price"
      ],
      "metadata": {
        "id": "eXkxyJ8_FUhf"
      },
      "execution_count": 6,
      "outputs": []
    },
    {
      "cell_type": "code",
      "source": [
        "call_price = black_scholes(S, K, T, r, sigma, option_type=\"call\")\n",
        "put_price = black_scholes(S, K, T, r, sigma, option_type=\"put\")\n",
        "\n"
      ],
      "metadata": {
        "id": "N5xJjhshGJ_B"
      },
      "execution_count": 7,
      "outputs": []
    },
    {
      "cell_type": "code",
      "source": [
        "print(\"Call price=\",call_price)\n",
        "print(\"Put price=\",put_price)"
      ],
      "metadata": {
        "colab": {
          "base_uri": "https://localhost:8080/"
        },
        "id": "8_m124lzRruU",
        "outputId": "09ca962e-1b87-465c-cfe5-898b090e2eb1"
      },
      "execution_count": 10,
      "outputs": [
        {
          "output_type": "stream",
          "name": "stdout",
          "text": [
            "Call price= Ticker\n",
            "SPY    30.665481\n",
            "Name: 2024-11-29 00:00:00, dtype: float64\n",
            "Put price= Ticker\n",
            "SPY    15.788469\n",
            "Name: 2024-11-29 00:00:00, dtype: float64\n"
          ]
        }
      ]
    },
    {
      "cell_type": "code",
      "source": [
        "def option_greeks(S, K, T, r, sigma):\n",
        "    d1 = (np.log(S / K) + (r + sigma**2 / 2) * T) / (sigma * np.sqrt(T))\n",
        "    d2 = d1 - sigma * np.sqrt(T)\n",
        "\n",
        "    delta_call = norm.cdf(d1)\n",
        "    delta_put = -norm.cdf(-d1)\n",
        "    gamma = norm.pdf(d1) / (S * sigma * np.sqrt(T))\n",
        "    theta_call = (-S * norm.pdf(d1) * sigma / (2 * np.sqrt(T))\n",
        "                  - r * K * np.exp(-r * T) * norm.cdf(d2))\n",
        "    theta_put = (-S * norm.pdf(d1) * sigma / (2 * np.sqrt(T))\n",
        "                 + r * K * np.exp(-r * T) * norm.cdf(-d2))\n",
        "    vega = S * norm.pdf(d1) * np.sqrt(T)\n",
        "    rho_call = K * T * np.exp(-r * T) * norm.cdf(d2)\n",
        "    rho_put = -K * T * np.exp(-r * T) * norm.cdf(-d2)\n",
        "\n",
        "    return {\n",
        "        \"delta_call\": delta_call, \"delta_put\": delta_put,\n",
        "        \"gamma\": gamma, \"theta_call\": theta_call, \"theta_put\": theta_put,\n",
        "        \"vega\": vega, \"rho_call\": rho_call, \"rho_put\": rho_put\n",
        "    }"
      ],
      "metadata": {
        "id": "ml9YeEVREoY8"
      },
      "execution_count": 11,
      "outputs": []
    },
    {
      "cell_type": "code",
      "source": [
        "greeks = option_greeks(S, K, T, r, sigma)"
      ],
      "metadata": {
        "id": "ZVk5LRGmFLNz"
      },
      "execution_count": 12,
      "outputs": []
    },
    {
      "cell_type": "code",
      "source": [
        "print(greeks)"
      ],
      "metadata": {
        "colab": {
          "base_uri": "https://localhost:8080/"
        },
        "id": "Bd2ZNE2AFQda",
        "outputId": "469ecfa9-b080-4bff-bfca-c04de123df6d"
      },
      "execution_count": 13,
      "outputs": [
        {
          "output_type": "stream",
          "name": "stdout",
          "text": [
            "{'delta_call': array([0.62232777]), 'delta_put': array([-0.37767223]), 'gamma': Ticker\n",
            "SPY    0.006668\n",
            "Name: 2024-11-29 00:00:00, dtype: float64, 'theta_call': Ticker\n",
            "SPY   -38.875557\n",
            "Name: 2024-11-29 00:00:00, dtype: float64, 'theta_put': Ticker\n",
            "SPY   -9.491908\n",
            "Name: 2024-11-29 00:00:00, dtype: float64, 'vega': Ticker\n",
            "SPY    161.921427\n",
            "Name: 2024-11-29 00:00:00, dtype: float64, 'rho_call': Ticker\n",
            "SPY    172.159054\n",
            "Name: 2024-11-29 00:00:00, dtype: float64, 'rho_put': Ticker\n",
            "SPY   -121.677434\n",
            "Name: 2024-11-29 00:00:00, dtype: float64}\n"
          ]
        }
      ]
    },
    {
      "cell_type": "code",
      "source": [],
      "metadata": {
        "id": "jM_YvmNBFSY3"
      },
      "execution_count": null,
      "outputs": []
    }
  ]
}
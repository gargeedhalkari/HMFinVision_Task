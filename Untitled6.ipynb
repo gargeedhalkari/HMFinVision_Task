{
  "nbformat": 4,
  "nbformat_minor": 0,
  "metadata": {
    "colab": {
      "provenance": []
    },
    "kernelspec": {
      "name": "python3",
      "display_name": "Python 3"
    },
    "language_info": {
      "name": "python"
    }
  },
  "cells": [
    {
      "cell_type": "code",
      "execution_count": 14,
      "metadata": {
        "id": "W45QAjd41-NT"
      },
      "outputs": [],
      "source": [
        "from bs4 import BeautifulSoup\n",
        "import requests\n",
        "import csv\n",
        "import pandas as pd"
      ]
    },
    {
      "cell_type": "code",
      "source": [
        "nifty50_stocks = ['RELIANCE','TCS','HDFCBANK','BHARTIARTL','ICICIBANK','INFY','SBIN','ITC','HINDUNILVR','LT']"
      ],
      "metadata": {
        "id": "mt4kUhYt2Dz7"
      },
      "execution_count": 15,
      "outputs": []
    },
    {
      "cell_type": "code",
      "source": [
        "url = \"https://www.screener.in/company/\""
      ],
      "metadata": {
        "id": "pwCTK7gP2LGL"
      },
      "execution_count": 16,
      "outputs": []
    },
    {
      "cell_type": "code",
      "source": [
        "Data=[]"
      ],
      "metadata": {
        "id": "0YaCNDd72OIV"
      },
      "execution_count": 17,
      "outputs": []
    },
    {
      "cell_type": "code",
      "source": [
        "for stock in nifty50_stocks:\n",
        "  URL = url + stock + \"/consolidated/\"\n",
        "  page = requests.get(URL)\n",
        "  soup = BeautifulSoup(page.text, 'lxml')\n",
        "\n",
        "  stock_name = soup.find('h1', class_='h2 shrink-text').get_text(strip=True)\n",
        "\n",
        "  ratios = {}\n",
        "  ratios_list = soup.find('ul', id='top-ratios').find_all('li')\n",
        "  for item in ratios_list:\n",
        "    ratio_name = item.find('span', class_='name').text.strip()\n",
        "    ratio_value = item.find('span', class_='nowrap value').text.strip()\n",
        "    ratios[ratio_name] = ratio_value\n",
        "\n",
        "  Data.append([stock_name, ratios])\n",
        "df = pd.DataFrame(Data)\n",
        "df.to_csv(\"nifty50_stocks.csv\", index=False)\n",
        "print(df)\n",
        "\n",
        "\n",
        "\n",
        "\n"
      ],
      "metadata": {
        "colab": {
          "base_uri": "https://localhost:8080/"
        },
        "id": "nUuR7RjD4g3W",
        "outputId": "c87a21a6-f39d-4f10-d85c-53572d4d8b2f"
      },
      "execution_count": 21,
      "outputs": [
        {
          "output_type": "stream",
          "name": "stdout",
          "text": [
            "                                0  \\\n",
            "0         Reliance Industries Ltd   \n",
            "1   Tata Consultancy Services Ltd   \n",
            "2                   HDFC Bank Ltd   \n",
            "3               Bharti Airtel Ltd   \n",
            "4                  ICICI Bank Ltd   \n",
            "5                     Infosys Ltd   \n",
            "6             State Bank of India   \n",
            "7                         ITC Ltd   \n",
            "8          Hindustan Unilever Ltd   \n",
            "9             Larsen & Toubro Ltd   \n",
            "10        Reliance Industries Ltd   \n",
            "11        Reliance Industries Ltd   \n",
            "12  Tata Consultancy Services Ltd   \n",
            "13                  HDFC Bank Ltd   \n",
            "14              Bharti Airtel Ltd   \n",
            "15                 ICICI Bank Ltd   \n",
            "16                    Infosys Ltd   \n",
            "17            State Bank of India   \n",
            "18                        ITC Ltd   \n",
            "19         Hindustan Unilever Ltd   \n",
            "20            Larsen & Toubro Ltd   \n",
            "21        Reliance Industries Ltd   \n",
            "22  Tata Consultancy Services Ltd   \n",
            "23                  HDFC Bank Ltd   \n",
            "24              Bharti Airtel Ltd   \n",
            "25                 ICICI Bank Ltd   \n",
            "26                    Infosys Ltd   \n",
            "27            State Bank of India   \n",
            "28                        ITC Ltd   \n",
            "29         Hindustan Unilever Ltd   \n",
            "30            Larsen & Toubro Ltd   \n",
            "\n",
            "                                                    1  \n",
            "0   {'Market Cap': '₹\n",
            "        17,22,468\n",
            "        \n",
            " ...  \n",
            "1   {'Market Cap': '₹\n",
            "        16,18,696\n",
            "        \n",
            " ...  \n",
            "2   {'Market Cap': '₹\n",
            "        14,30,929\n",
            "        \n",
            " ...  \n",
            "3   {'Market Cap': '₹\n",
            "        10,07,452\n",
            "        \n",
            " ...  \n",
            "4   {'Market Cap': '₹\n",
            "        9,49,165\n",
            "        \n",
            "  ...  \n",
            "5   {'Market Cap': '₹\n",
            "        8,30,325\n",
            "        \n",
            "  ...  \n",
            "6   {'Market Cap': '₹\n",
            "        7,68,901\n",
            "        \n",
            "  ...  \n",
            "7   {'Market Cap': '₹\n",
            "        5,88,008\n",
            "        \n",
            "  ...  \n",
            "8   {'Market Cap': '₹\n",
            "        5,61,576\n",
            "        \n",
            "  ...  \n",
            "9   {'Market Cap': '₹\n",
            "        5,34,513\n",
            "        \n",
            "  ...  \n",
            "10  {'Market Cap': '₹\n",
            "        17,22,468\n",
            "        \n",
            " ...  \n",
            "11  {'Market Cap': '₹\n",
            "        17,22,468\n",
            "        \n",
            " ...  \n",
            "12  {'Market Cap': '₹\n",
            "        16,18,696\n",
            "        \n",
            " ...  \n",
            "13  {'Market Cap': '₹\n",
            "        14,30,929\n",
            "        \n",
            " ...  \n",
            "14  {'Market Cap': '₹\n",
            "        10,07,452\n",
            "        \n",
            " ...  \n",
            "15  {'Market Cap': '₹\n",
            "        9,49,165\n",
            "        \n",
            "  ...  \n",
            "16  {'Market Cap': '₹\n",
            "        8,30,325\n",
            "        \n",
            "  ...  \n",
            "17  {'Market Cap': '₹\n",
            "        7,68,901\n",
            "        \n",
            "  ...  \n",
            "18  {'Market Cap': '₹\n",
            "        5,88,008\n",
            "        \n",
            "  ...  \n",
            "19  {'Market Cap': '₹\n",
            "        5,61,576\n",
            "        \n",
            "  ...  \n",
            "20  {'Market Cap': '₹\n",
            "        5,34,513\n",
            "        \n",
            "  ...  \n",
            "21  {'Market Cap': '₹\n",
            "        17,22,468\n",
            "        \n",
            " ...  \n",
            "22  {'Market Cap': '₹\n",
            "        16,18,696\n",
            "        \n",
            " ...  \n",
            "23  {'Market Cap': '₹\n",
            "        14,30,929\n",
            "        \n",
            " ...  \n",
            "24  {'Market Cap': '₹\n",
            "        10,07,452\n",
            "        \n",
            " ...  \n",
            "25  {'Market Cap': '₹\n",
            "        9,49,165\n",
            "        \n",
            "  ...  \n",
            "26  {'Market Cap': '₹\n",
            "        8,30,325\n",
            "        \n",
            "  ...  \n",
            "27  {'Market Cap': '₹\n",
            "        7,68,901\n",
            "        \n",
            "  ...  \n",
            "28  {'Market Cap': '₹\n",
            "        5,88,008\n",
            "        \n",
            "  ...  \n",
            "29  {'Market Cap': '₹\n",
            "        5,61,576\n",
            "        \n",
            "  ...  \n",
            "30  {'Market Cap': '₹\n",
            "        5,34,513\n",
            "        \n",
            "  ...  \n"
          ]
        }
      ]
    },
    {
      "cell_type": "code",
      "source": [],
      "metadata": {
        "id": "wZ90Jonl7zvX"
      },
      "execution_count": 18,
      "outputs": []
    }
  ]
}